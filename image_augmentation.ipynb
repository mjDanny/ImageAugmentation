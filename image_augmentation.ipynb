{
  "nbformat": 4,
  "nbformat_minor": 0,
  "metadata": {
    "colab": {
      "provenance": []
    },
    "kernelspec": {
      "name": "python3",
      "display_name": "Python 3"
    },
    "language_info": {
      "name": "python"
    }
  },
  "cells": [
    {
      "cell_type": "code",
      "source": [
        "from keras.preprocessing.image import ImageDataGenerator\n",
        "from keras.layers import Input\n",
        "from keras.models import Model\n",
        "from keras.optimizers import Adam\n",
        "from keras.applications import MobileNet\n",
        "from keras.layers import GlobalAveragePooling2D, Dense, Dropout\n",
        "\n",
        "# Определение параметров модели и данных\n",
        "IMG_WIDTH = 150  # Ширина изображения\n",
        "IMG_HEIGHT = 150  # Высота изображения\n",
        "NUM_CLASSES = 2  # Количество классов (кошки и собаки)\n",
        "BATCH_SIZE = 32  # Размер пакета (batch)\n",
        "EPOCHS = 25  # Количество эпох (проходов по данным)\n",
        "\n",
        "# Папки с данными для обучения и валидации\n",
        "train_data_dir = 'dataset/train'\n",
        "validation_data_dir = 'dataset/validation'\n",
        "testing_data_dir = 'dataset/test'\n",
        "\n",
        "# Аугментация изображений для обучающего набора данных\n",
        "train_datagen = ImageDataGenerator(\n",
        "    rescale=1./255,  # Масштабирование значений пикселей в диапазоне [0, 1]\n",
        "    rotation_range=20,  # Поворот изображения на угол до 20 градусов\n",
        "    zoom_range=0.2,  # Изменение масштаба изображения до 20%\n",
        "    width_shift_range=0.2,  # Сдвиг изображения по горизонтали до 20%\n",
        "    height_shift_range=0.2,  # Сдвиг изображения по вертикали до 20%\n",
        "    shear_range=0.2,  # Деформация изображения до 20%\n",
        "    horizontal_flip=True,  # Горизонтальное зеркальное отражение изображения\n",
        "    fill_mode='nearest',  # Способ заполнения пустых областей при преобразованиях\n",
        "    validation_split=0.2  # Отделение 20% данных для валидации\n",
        ")\n",
        "\n",
        "# Аугментация изображений для валидационного набора данных (без преобразований)\n",
        "test_datagen = ImageDataGenerator(rescale=1./255)\n",
        "\n",
        "# Генераторы изображений для обучающего, валидационного и тестового наборов данных\n",
        "train_generator = train_datagen.flow_from_directory(\n",
        "    train_data_dir,  # Директория с обучающими данными\n",
        "    target_size=(IMG_WIDTH, IMG_HEIGHT),  # Размер изображения\n",
        "    batch_size=BATCH_SIZE,  # Размер пакета (batch)\n",
        "    class_mode='categorical',  # Формат выходных данных (one-hot encoding)\n",
        "    subset='training'  # Использование только обучающего набора данных\n",
        ")\n",
        "\n",
        "validation_generator = train_datagen.flow_from_directory(\n",
        "    validation_data_dir,  # Директория с валидационными данными\n",
        "    target_size=(IMG_WIDTH, IMG_HEIGHT),  # Размер изображения\n",
        "    batch_size=BATCH_SIZE,  # Размер пакета (batch)\n",
        "    class_mode='categorical',  # Формат выходных данных (one-hot encoding)\n",
        "    subset='validation'  # Использование только валидационного набора данных\n",
        ")\n",
        "testing_generator = test_datagen.flow_from_directory(\n",
        "    testing_data_dir,\n",
        "    target_size=(IMG_WIDTH, IMG_HEIGHT),\n",
        "    batch_size=BATCH_SIZE,\n",
        "    class_mode='categorical'\n",
        ")\n",
        "\n",
        "\n",
        "# Создание модели\n",
        "def model_maker():\n",
        "    base_model = MobileNet(include_top=False, input_shape=(IMG_WIDTH, IMG_HEIGHT, 3))  # Использование предобученной модели MobileNet без верхних слоев\n",
        "\n",
        "    for layer in base_model.layers[:]:  # Замораживание весов предобученной модели\n",
        "        layer.trainable = False\n",
        "\n",
        "    input = Input(shape=(IMG_WIDTH, IMG_HEIGHT, 3))  # Входной слой\n",
        "    custom_model = base_model(input)  # Подключение предобученной модели\n",
        "    custom_model = GlobalAveragePooling2D()(custom_model)  # Добавление слоя глобального среднего пулинга\n",
        "    custom_model = Dense(64, activation='relu')(custom_model)  # Добавление промежуточного полносвязного слоя\n",
        "    custom_model = Dropout(0.5)(custom_model) # Добавление слоя Dropout для предотвращения переобучения\n",
        "    predictions = Dense(NUM_CLASSES, activation='softmax')(custom_model) # Добавление выходного слоя с softmax-активацией\n",
        "\n",
        "    model = Model(inputs=input, outputs=predictions) # Создание модели Keras\n",
        "\n",
        "    return model\n",
        "\n",
        "# Обучение модели\n",
        "model = model_maker()  # Создание модели\n",
        "model.compile(loss='categorical_crossentropy', optimizer=Adam(lr=0.0001), metrics=['accuracy', 'val_accuracy'])  # Компиляция модели с указанием функции потерь, оптимизатора и метрик\n",
        "\n",
        "history = model.fit_generator(\n",
        "    train_generator,  # Генератор обучающих данных\n",
        "    validation_data=validation_generator,  # Генератор валидационных данных\n",
        "    epochs=EPOCHS,  # Количество эпох (проходов по данным)\n",
        "    steps_per_epoch=train_generator.samples // BATCH_SIZE,  # Количество шагов (пакетов) в эпохе для обучающих данных\n",
        "    validation_steps=validation_generator.samples // BATCH_SIZE  # Количество шагов (пакетов) в эпохе для валидационных данных\n",
        ")\n",
        "\n",
        "testing_steps = testing_generator.samples // BATCH_SIZE\n",
        "test_loss, test_acc = model.evaluate_generator(testing_generator, steps=testing_steps)\n",
        "print(f'Тестовая точность: {test_acc:.4f}')\n",
        "\n",
        "# Вывод итоговой точности на валидационном наборе данных\n",
        "val_acc = history.history['val_accuracy'][-1]\n",
        "print(f'Итоговая точность на валидационном наборе данных: {val_acc:.4f}')\n"
      ],
      "metadata": {
        "id": "SrPjgKZrZSwt",
        "colab": {
          "base_uri": "https://localhost:8080/"
        },
        "outputId": "6d63812c-3b81-4106-80f9-4d3086a41d61"
      },
      "execution_count": null,
      "outputs": [
        {
          "output_type": "stream",
          "name": "stdout",
          "text": [
            "Found 3843 images belonging to 2 classes.\n",
            "Found 320 images belonging to 2 classes.\n",
            "Found 1601 images belonging to 2 classes.\n"
          ]
        },
        {
          "output_type": "stream",
          "name": "stderr",
          "text": [
            "WARNING:tensorflow:`input_shape` is undefined or non-square, or `rows` is not in [128, 160, 192, 224]. Weights for input shape (224, 224) will be loaded as the default.\n"
          ]
        },
        {
          "output_type": "stream",
          "name": "stdout",
          "text": [
            "Downloading data from https://storage.googleapis.com/tensorflow/keras-applications/mobilenet/mobilenet_1_0_224_tf_no_top.h5\n",
            "17225924/17225924 [==============================] - 1s 0us/step\n"
          ]
        },
        {
          "output_type": "stream",
          "name": "stderr",
          "text": [
            "WARNING:absl:`lr` is deprecated in Keras optimizer, please use `learning_rate` or use the legacy optimizer, e.g.,tf.keras.optimizers.legacy.Adam.\n",
            "<ipython-input-7-41f3d02cefad>:82: UserWarning: `Model.fit_generator` is deprecated and will be removed in a future version. Please use `Model.fit`, which supports generators.\n",
            "  history = model.fit_generator(\n"
          ]
        },
        {
          "output_type": "stream",
          "name": "stdout",
          "text": [
            "Epoch 1/25\n",
            "120/120 [==============================] - 107s 867ms/step - loss: 0.2995 - accuracy: 0.8845 - val_loss: 0.1454 - val_accuracy: 0.9406\n",
            "Epoch 2/25\n",
            "120/120 [==============================] - 103s 859ms/step - loss: 0.1763 - accuracy: 0.9271 - val_loss: 0.0966 - val_accuracy: 0.9625\n",
            "Epoch 3/25\n",
            "120/120 [==============================] - 102s 844ms/step - loss: 0.1488 - accuracy: 0.9368 - val_loss: 0.1410 - val_accuracy: 0.9500\n",
            "Epoch 4/25\n",
            "120/120 [==============================] - 102s 850ms/step - loss: 0.1382 - accuracy: 0.9441 - val_loss: 0.1329 - val_accuracy: 0.9531\n",
            "Epoch 5/25\n",
            "120/120 [==============================] - 103s 852ms/step - loss: 0.1241 - accuracy: 0.9494 - val_loss: 0.0971 - val_accuracy: 0.9625\n",
            "Epoch 6/25\n",
            "120/120 [==============================] - 100s 830ms/step - loss: 0.1329 - accuracy: 0.9483 - val_loss: 0.1004 - val_accuracy: 0.9625\n",
            "Epoch 7/25\n",
            "120/120 [==============================] - 101s 838ms/step - loss: 0.1204 - accuracy: 0.9480 - val_loss: 0.0980 - val_accuracy: 0.9719\n",
            "Epoch 8/25\n",
            "120/120 [==============================] - 101s 843ms/step - loss: 0.1119 - accuracy: 0.9559 - val_loss: 0.0888 - val_accuracy: 0.9750\n",
            "Epoch 9/25\n",
            "120/120 [==============================] - 101s 836ms/step - loss: 0.1120 - accuracy: 0.9567 - val_loss: 0.1326 - val_accuracy: 0.9531\n",
            "Epoch 10/25\n",
            "120/120 [==============================] - 100s 835ms/step - loss: 0.1086 - accuracy: 0.9585 - val_loss: 0.1198 - val_accuracy: 0.9531\n",
            "Epoch 11/25\n",
            "120/120 [==============================] - 103s 861ms/step - loss: 0.1056 - accuracy: 0.9596 - val_loss: 0.1178 - val_accuracy: 0.9594\n",
            "Epoch 12/25\n",
            "120/120 [==============================] - 100s 835ms/step - loss: 0.1008 - accuracy: 0.9557 - val_loss: 0.0969 - val_accuracy: 0.9656\n",
            "Epoch 13/25\n",
            "120/120 [==============================] - 103s 849ms/step - loss: 0.1055 - accuracy: 0.9591 - val_loss: 0.1058 - val_accuracy: 0.9531\n",
            "Epoch 14/25\n",
            "120/120 [==============================] - 100s 829ms/step - loss: 0.1008 - accuracy: 0.9599 - val_loss: 0.1233 - val_accuracy: 0.9625\n",
            "Epoch 15/25\n",
            "120/120 [==============================] - 110s 907ms/step - loss: 0.1008 - accuracy: 0.9617 - val_loss: 0.1299 - val_accuracy: 0.9594\n",
            "Epoch 16/25\n",
            "120/120 [==============================] - 101s 835ms/step - loss: 0.0936 - accuracy: 0.9601 - val_loss: 0.1330 - val_accuracy: 0.9406\n",
            "Epoch 17/25\n",
            "120/120 [==============================] - 105s 869ms/step - loss: 0.0960 - accuracy: 0.9599 - val_loss: 0.1188 - val_accuracy: 0.9531\n",
            "Epoch 18/25\n",
            "120/120 [==============================] - 102s 850ms/step - loss: 0.0907 - accuracy: 0.9646 - val_loss: 0.1089 - val_accuracy: 0.9625\n",
            "Epoch 19/25\n",
            "120/120 [==============================] - 105s 878ms/step - loss: 0.1033 - accuracy: 0.9604 - val_loss: 0.1095 - val_accuracy: 0.9531\n",
            "Epoch 20/25\n",
            "120/120 [==============================] - 99s 817ms/step - loss: 0.1029 - accuracy: 0.9572 - val_loss: 0.0996 - val_accuracy: 0.9594\n",
            "Epoch 21/25\n",
            "120/120 [==============================] - 103s 859ms/step - loss: 0.0991 - accuracy: 0.9654 - val_loss: 0.0933 - val_accuracy: 0.9563\n",
            "Epoch 22/25\n",
            "120/120 [==============================] - 103s 853ms/step - loss: 0.0904 - accuracy: 0.9646 - val_loss: 0.1480 - val_accuracy: 0.9438\n",
            "Epoch 23/25\n",
            "120/120 [==============================] - 105s 882ms/step - loss: 0.0828 - accuracy: 0.9675 - val_loss: 0.0801 - val_accuracy: 0.9625\n",
            "Epoch 24/25\n",
            "120/120 [==============================] - 101s 839ms/step - loss: 0.0903 - accuracy: 0.9625 - val_loss: 0.1577 - val_accuracy: 0.9563\n",
            "Epoch 25/25\n",
            "120/120 [==============================] - 102s 849ms/step - loss: 0.0868 - accuracy: 0.9664 - val_loss: 0.1097 - val_accuracy: 0.9625\n"
          ]
        },
        {
          "output_type": "stream",
          "name": "stderr",
          "text": [
            "<ipython-input-7-41f3d02cefad>:91: UserWarning: `Model.evaluate_generator` is deprecated and will be removed in a future version. Please use `Model.evaluate`, which supports generators.\n",
            "  test_loss, test_acc = model.evaluate_generator(testing_generator, steps=testing_steps)\n"
          ]
        },
        {
          "output_type": "stream",
          "name": "stdout",
          "text": [
            "Тестовая точность: 0.9675\n",
            "Итоговая точность на валидационном наборе данных: 0.9625\n"
          ]
        }
      ]
    }
  ]
}